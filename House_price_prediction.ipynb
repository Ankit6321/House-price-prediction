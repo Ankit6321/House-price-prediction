{
 "cells": [
  {
   "cell_type": "code",
   "execution_count": 1,
   "id": "5c1921db-0425-4a86-bf6d-641c5a7ca51a",
   "metadata": {
    "collapsed": true,
    "jupyter": {
     "outputs_hidden": true,
     "source_hidden": true
    }
   },
   "outputs": [
    {
     "data": {
      "text/html": [
       "<div>\n",
       "<style scoped>\n",
       "    .dataframe tbody tr th:only-of-type {\n",
       "        vertical-align: middle;\n",
       "    }\n",
       "\n",
       "    .dataframe tbody tr th {\n",
       "        vertical-align: top;\n",
       "    }\n",
       "\n",
       "    .dataframe thead th {\n",
       "        text-align: right;\n",
       "    }\n",
       "</style>\n",
       "<table border=\"1\" class=\"dataframe\">\n",
       "  <thead>\n",
       "    <tr style=\"text-align: right;\">\n",
       "      <th></th>\n",
       "      <th>Id</th>\n",
       "      <th>MSSubClass</th>\n",
       "      <th>MSZoning</th>\n",
       "      <th>LotFrontage</th>\n",
       "      <th>LotArea</th>\n",
       "      <th>Street</th>\n",
       "      <th>Alley</th>\n",
       "      <th>LotShape</th>\n",
       "      <th>LandContour</th>\n",
       "      <th>Utilities</th>\n",
       "      <th>...</th>\n",
       "      <th>PoolArea</th>\n",
       "      <th>PoolQC</th>\n",
       "      <th>Fence</th>\n",
       "      <th>MiscFeature</th>\n",
       "      <th>MiscVal</th>\n",
       "      <th>MoSold</th>\n",
       "      <th>YrSold</th>\n",
       "      <th>SaleType</th>\n",
       "      <th>SaleCondition</th>\n",
       "      <th>SalePrice</th>\n",
       "    </tr>\n",
       "  </thead>\n",
       "  <tbody>\n",
       "    <tr>\n",
       "      <th>0</th>\n",
       "      <td>1</td>\n",
       "      <td>60</td>\n",
       "      <td>RL</td>\n",
       "      <td>65.0</td>\n",
       "      <td>8450</td>\n",
       "      <td>Pave</td>\n",
       "      <td>NaN</td>\n",
       "      <td>Reg</td>\n",
       "      <td>Lvl</td>\n",
       "      <td>AllPub</td>\n",
       "      <td>...</td>\n",
       "      <td>0</td>\n",
       "      <td>NaN</td>\n",
       "      <td>NaN</td>\n",
       "      <td>NaN</td>\n",
       "      <td>0</td>\n",
       "      <td>2</td>\n",
       "      <td>2008</td>\n",
       "      <td>WD</td>\n",
       "      <td>Normal</td>\n",
       "      <td>208500</td>\n",
       "    </tr>\n",
       "  </tbody>\n",
       "</table>\n",
       "<p>1 rows × 81 columns</p>\n",
       "</div>"
      ],
      "text/plain": [
       "   Id  MSSubClass MSZoning  LotFrontage  LotArea Street Alley LotShape  \\\n",
       "0   1          60       RL         65.0     8450   Pave   NaN      Reg   \n",
       "\n",
       "  LandContour Utilities  ... PoolArea PoolQC Fence MiscFeature MiscVal MoSold  \\\n",
       "0         Lvl    AllPub  ...        0    NaN   NaN         NaN       0      2   \n",
       "\n",
       "  YrSold  SaleType  SaleCondition  SalePrice  \n",
       "0   2008        WD         Normal     208500  \n",
       "\n",
       "[1 rows x 81 columns]"
      ]
     },
     "execution_count": 1,
     "metadata": {},
     "output_type": "execute_result"
    }
   ],
   "source": [
    "import pandas as pd\n",
    "df = pd.read_csv(\"train.csv\")\n",
    "df.head(1)"
   ]
  },
  {
   "cell_type": "code",
   "execution_count": 2,
   "id": "36d61003-3ce7-42a5-a774-3b5de095c948",
   "metadata": {
    "collapsed": true,
    "jupyter": {
     "outputs_hidden": true,
     "source_hidden": true
    }
   },
   "outputs": [
    {
     "data": {
      "text/plain": [
       "Index(['Id', 'MSSubClass', 'MSZoning', 'LotFrontage', 'LotArea', 'Street',\n",
       "       'Alley', 'LotShape', 'LandContour', 'Utilities', 'LotConfig',\n",
       "       'LandSlope', 'Neighborhood', 'Condition1', 'Condition2', 'BldgType',\n",
       "       'HouseStyle', 'OverallQual', 'OverallCond', 'YearBuilt', 'YearRemodAdd',\n",
       "       'RoofStyle', 'RoofMatl', 'Exterior1st', 'Exterior2nd', 'MasVnrType',\n",
       "       'MasVnrArea', 'ExterQual', 'ExterCond', 'Foundation', 'BsmtQual',\n",
       "       'BsmtCond', 'BsmtExposure', 'BsmtFinType1', 'BsmtFinSF1',\n",
       "       'BsmtFinType2', 'BsmtFinSF2', 'BsmtUnfSF', 'TotalBsmtSF', 'Heating',\n",
       "       'HeatingQC', 'CentralAir', 'Electrical', '1stFlrSF', '2ndFlrSF',\n",
       "       'LowQualFinSF', 'GrLivArea', 'BsmtFullBath', 'BsmtHalfBath', 'FullBath',\n",
       "       'HalfBath', 'BedroomAbvGr', 'KitchenAbvGr', 'KitchenQual',\n",
       "       'TotRmsAbvGrd', 'Functional', 'Fireplaces', 'FireplaceQu', 'GarageType',\n",
       "       'GarageYrBlt', 'GarageFinish', 'GarageCars', 'GarageArea', 'GarageQual',\n",
       "       'GarageCond', 'PavedDrive', 'WoodDeckSF', 'OpenPorchSF',\n",
       "       'EnclosedPorch', '3SsnPorch', 'ScreenPorch', 'PoolArea', 'PoolQC',\n",
       "       'Fence', 'MiscFeature', 'MiscVal', 'MoSold', 'YrSold', 'SaleType',\n",
       "       'SaleCondition', 'SalePrice'],\n",
       "      dtype='object')"
      ]
     },
     "execution_count": 2,
     "metadata": {},
     "output_type": "execute_result"
    }
   ],
   "source": [
    "df.columns"
   ]
  },
  {
   "cell_type": "code",
   "execution_count": 3,
   "id": "7ce3cab1-057e-48ec-b49b-b68b69bafa66",
   "metadata": {
    "collapsed": true,
    "jupyter": {
     "outputs_hidden": true,
     "source_hidden": true
    }
   },
   "outputs": [
    {
     "name": "stdout",
     "output_type": "stream",
     "text": [
      "<class 'pandas.core.frame.DataFrame'>\n",
      "RangeIndex: 1460 entries, 0 to 1459\n",
      "Data columns (total 81 columns):\n",
      " #   Column         Non-Null Count  Dtype  \n",
      "---  ------         --------------  -----  \n",
      " 0   Id             1460 non-null   int64  \n",
      " 1   MSSubClass     1460 non-null   int64  \n",
      " 2   MSZoning       1460 non-null   object \n",
      " 3   LotFrontage    1201 non-null   float64\n",
      " 4   LotArea        1460 non-null   int64  \n",
      " 5   Street         1460 non-null   object \n",
      " 6   Alley          91 non-null     object \n",
      " 7   LotShape       1460 non-null   object \n",
      " 8   LandContour    1460 non-null   object \n",
      " 9   Utilities      1460 non-null   object \n",
      " 10  LotConfig      1460 non-null   object \n",
      " 11  LandSlope      1460 non-null   object \n",
      " 12  Neighborhood   1460 non-null   object \n",
      " 13  Condition1     1460 non-null   object \n",
      " 14  Condition2     1460 non-null   object \n",
      " 15  BldgType       1460 non-null   object \n",
      " 16  HouseStyle     1460 non-null   object \n",
      " 17  OverallQual    1460 non-null   int64  \n",
      " 18  OverallCond    1460 non-null   int64  \n",
      " 19  YearBuilt      1460 non-null   int64  \n",
      " 20  YearRemodAdd   1460 non-null   int64  \n",
      " 21  RoofStyle      1460 non-null   object \n",
      " 22  RoofMatl       1460 non-null   object \n",
      " 23  Exterior1st    1460 non-null   object \n",
      " 24  Exterior2nd    1460 non-null   object \n",
      " 25  MasVnrType     588 non-null    object \n",
      " 26  MasVnrArea     1452 non-null   float64\n",
      " 27  ExterQual      1460 non-null   object \n",
      " 28  ExterCond      1460 non-null   object \n",
      " 29  Foundation     1460 non-null   object \n",
      " 30  BsmtQual       1423 non-null   object \n",
      " 31  BsmtCond       1423 non-null   object \n",
      " 32  BsmtExposure   1422 non-null   object \n",
      " 33  BsmtFinType1   1423 non-null   object \n",
      " 34  BsmtFinSF1     1460 non-null   int64  \n",
      " 35  BsmtFinType2   1422 non-null   object \n",
      " 36  BsmtFinSF2     1460 non-null   int64  \n",
      " 37  BsmtUnfSF      1460 non-null   int64  \n",
      " 38  TotalBsmtSF    1460 non-null   int64  \n",
      " 39  Heating        1460 non-null   object \n",
      " 40  HeatingQC      1460 non-null   object \n",
      " 41  CentralAir     1460 non-null   object \n",
      " 42  Electrical     1459 non-null   object \n",
      " 43  1stFlrSF       1460 non-null   int64  \n",
      " 44  2ndFlrSF       1460 non-null   int64  \n",
      " 45  LowQualFinSF   1460 non-null   int64  \n",
      " 46  GrLivArea      1460 non-null   int64  \n",
      " 47  BsmtFullBath   1460 non-null   int64  \n",
      " 48  BsmtHalfBath   1460 non-null   int64  \n",
      " 49  FullBath       1460 non-null   int64  \n",
      " 50  HalfBath       1460 non-null   int64  \n",
      " 51  BedroomAbvGr   1460 non-null   int64  \n",
      " 52  KitchenAbvGr   1460 non-null   int64  \n",
      " 53  KitchenQual    1460 non-null   object \n",
      " 54  TotRmsAbvGrd   1460 non-null   int64  \n",
      " 55  Functional     1460 non-null   object \n",
      " 56  Fireplaces     1460 non-null   int64  \n",
      " 57  FireplaceQu    770 non-null    object \n",
      " 58  GarageType     1379 non-null   object \n",
      " 59  GarageYrBlt    1379 non-null   float64\n",
      " 60  GarageFinish   1379 non-null   object \n",
      " 61  GarageCars     1460 non-null   int64  \n",
      " 62  GarageArea     1460 non-null   int64  \n",
      " 63  GarageQual     1379 non-null   object \n",
      " 64  GarageCond     1379 non-null   object \n",
      " 65  PavedDrive     1460 non-null   object \n",
      " 66  WoodDeckSF     1460 non-null   int64  \n",
      " 67  OpenPorchSF    1460 non-null   int64  \n",
      " 68  EnclosedPorch  1460 non-null   int64  \n",
      " 69  3SsnPorch      1460 non-null   int64  \n",
      " 70  ScreenPorch    1460 non-null   int64  \n",
      " 71  PoolArea       1460 non-null   int64  \n",
      " 72  PoolQC         7 non-null      object \n",
      " 73  Fence          281 non-null    object \n",
      " 74  MiscFeature    54 non-null     object \n",
      " 75  MiscVal        1460 non-null   int64  \n",
      " 76  MoSold         1460 non-null   int64  \n",
      " 77  YrSold         1460 non-null   int64  \n",
      " 78  SaleType       1460 non-null   object \n",
      " 79  SaleCondition  1460 non-null   object \n",
      " 80  SalePrice      1460 non-null   int64  \n",
      "dtypes: float64(3), int64(35), object(43)\n",
      "memory usage: 924.0+ KB\n"
     ]
    }
   ],
   "source": [
    "df.info()"
   ]
  },
  {
   "cell_type": "code",
   "execution_count": 4,
   "id": "b94d375c-bda7-4531-8b94-055738362e68",
   "metadata": {
    "jupyter": {
     "source_hidden": true
    }
   },
   "outputs": [],
   "source": [
    "import matplotlib.pyplot as plt"
   ]
  },
  {
   "cell_type": "code",
   "execution_count": 5,
   "id": "697c9256",
   "metadata": {},
   "outputs": [
    {
     "data": {
      "image/png": "[encoded data removed]",
      "text/plain": [
       "<Figure size 640x480 with 1 Axes>"
      ]
     },
     "metadata": {},
     "output_type": "display_data"
    }
   ],
   "source": [
    "plt.hist(df[\"SalePrice\"], bins=20)\n",
    "plt.xlabel(\"Sales Price\")\n",
    "plt.ylabel(\"Number of houses\")\n",
    "plt.title(\"Sales price distribution\")\n",
    "plt.show()"
   ]
  },
  {
   "cell_type": "code",
   "execution_count": 6,
   "id": "ade4e2cf-34be-4012-9907-e1fe405ac88e",
   "metadata": {
    "collapsed": true,
    "jupyter": {
     "outputs_hidden": true,
     "source_hidden": true
    }
   },
   "outputs": [
    {
     "data": {
      "image/png": "[encoded data removed]",
      "text/plain": [
       "<Figure size 640x480 with 1 Axes>"
      ]
     },
     "metadata": {},
     "output_type": "display_data"
    }
   ],
   "source": [
    "plt.scatter(df[\"LotArea\"],df[\"SalePrice\"])\n",
    "plt.title(\"SalesPrice vs LotArea\")\n",
    "plt.xlabel(\"Lot Area\")\n",
    "plt.ylabel(\"Sales Price\")\n",
    "plt.show()"
   ]
  },
  {
   "cell_type": "code",
   "execution_count": 7,
   "id": "1d9e710f-bb3e-4a2f-b9a2-bfd13f1f005a",
   "metadata": {
    "collapsed": true,
    "jupyter": {
     "outputs_hidden": true,
     "source_hidden": true
    }
   },
   "outputs": [
    {
     "data": {
      "text/plain": [
       "Neighborhood\n",
       "Blmngtn    194870.882353\n",
       "Blueste    137500.000000\n",
       "BrDale     104493.750000\n",
       "BrkSide    124834.051724\n",
       "ClearCr    212565.428571\n",
       "CollgCr    197965.773333\n",
       "Crawfor    210624.725490\n",
       "Edwards    128219.700000\n",
       "Gilbert    192854.506329\n",
       "IDOTRR     100123.783784\n",
       "MeadowV     98576.470588\n",
       "Mitchel    156270.122449\n",
       "NAmes      145847.080000\n",
       "NPkVill    142694.444444\n",
       "NWAmes     189050.068493\n",
       "NoRidge    335295.317073\n",
       "NridgHt    316270.623377\n",
       "OldTown    128225.300885\n",
       "SWISU      142591.360000\n",
       "Sawyer     136793.135135\n",
       "SawyerW    186555.796610\n",
       "Somerst    225379.837209\n",
       "StoneBr    310499.000000\n",
       "Timber     242247.447368\n",
       "Veenker    238772.727273\n",
       "Name: SalePrice, dtype: float64"
      ]
     },
     "execution_count": 7,
     "metadata": {},
     "output_type": "execute_result"
    }
   ],
   "source": [
    "df.groupby(\"Neighborhood\")[\"SalePrice\"].mean()"
   ]
  },
  {
   "cell_type": "code",
   "execution_count": 8,
   "id": "bbb002e4",
   "metadata": {},
   "outputs": [
    {
     "data": {
      "text/plain": [
       "MSZoning\n",
       "C (all)     74528.000000\n",
       "FV         214014.061538\n",
       "RH         131558.375000\n",
       "RL         191004.994787\n",
       "RM         126316.830275\n",
       "Name: SalePrice, dtype: float64"
      ]
     },
     "execution_count": 8,
     "metadata": {},
     "output_type": "execute_result"
    }
   ],
   "source": [
    "df.groupby(\"MSZoning\")[\"SalePrice\"].mean()"
   ]
  },
  {
   "cell_type": "code",
   "execution_count": 9,
   "id": "4bb20ef8",
   "metadata": {},
   "outputs": [
    {
     "name": "stdout",
     "output_type": "stream",
     "text": [
      "Utilities\n",
      "AllPub    180950.95682\n",
      "NoSeWa    137500.00000\n",
      "Name: SalePrice, dtype: float64\n",
      "\n",
      "\n",
      "\n",
      "      Id  MSSubClass MSZoning  LotFrontage  LotArea Street Alley LotShape  \\\n",
      "944  945          20       RL          NaN    14375   Pave   NaN      IR1   \n",
      "\n",
      "    LandContour Utilities  ... PoolArea PoolQC Fence MiscFeature MiscVal  \\\n",
      "944         Lvl    NoSeWa  ...        0    NaN   NaN         NaN       0   \n",
      "\n",
      "    MoSold YrSold  SaleType  SaleCondition  SalePrice  \n",
      "944      1   2009       COD        Abnorml     137500  \n",
      "\n",
      "[1 rows x 81 columns]\n"
     ]
    }
   ],
   "source": [
    "#This gave me the overview of how ulities offered effected the saleprice\n",
    "print(df.groupby(\"Utilities\")[\"SalePrice\"].mean())\n",
    "\n",
    "print(\"\\n\\n\")\n",
    "#Then I noticed that there is only one row data of containing NoSeWa \n",
    "print(df.loc[df[\"Utilities\"] == \"NoSeWa\"])"
   ]
  },
  {
   "cell_type": "markdown",
   "id": "ccd8edad-a242-4676-b801-d7bfa6ccdbcf",
   "metadata": {},
   "source": [
    "Filling empty cells"
   ]
  },
  {
   "cell_type": "code",
   "execution_count": 10,
   "id": "6ec7c55b-4098-4a7a-87f2-6018a41077ed",
   "metadata": {
    "collapsed": true,
    "jupyter": {
     "outputs_hidden": true,
     "source_hidden": true
    }
   },
   "outputs": [],
   "source": [
    "df[\"LotFrontage\"] = df[\"LotFrontage\"].fillna(df[\"LotFrontage\"].mean())"
   ]
  },
  {
   "cell_type": "code",
   "execution_count": 11,
   "id": "1289d072",
   "metadata": {},
   "outputs": [
    {
     "name": "stdout",
     "output_type": "stream",
     "text": [
      "<class 'pandas.core.frame.DataFrame'>\n",
      "RangeIndex: 1460 entries, 0 to 1459\n",
      "Data columns (total 81 columns):\n",
      " #   Column         Non-Null Count  Dtype  \n",
      "---  ------         --------------  -----  \n",
      " 0   Id             1460 non-null   int64  \n",
      " 1   MSSubClass     1460 non-null   int64  \n",
      " 2   MSZoning       1460 non-null   object \n",
      " 3   LotFrontage    1460 non-null   float64\n",
      " 4   LotArea        1460 non-null   int64  \n",
      " 5   Street         1460 non-null   object \n",
      " 6   Alley          91 non-null     object \n",
      " 7   LotShape       1460 non-null   object \n",
      " 8   LandContour    1460 non-null   object \n",
      " 9   Utilities      1460 non-null   object \n",
      " 10  LotConfig      1460 non-null   object \n",
      " 11  LandSlope      1460 non-null   object \n",
      " 12  Neighborhood   1460 non-null   object \n",
      " 13  Condition1     1460 non-null   object \n",
      " 14  Condition2     1460 non-null   object \n",
      " 15  BldgType       1460 non-null   object \n",
      " 16  HouseStyle     1460 non-null   object \n",
      " 17  OverallQual    1460 non-null   int64  \n",
      " 18  OverallCond    1460 non-null   int64  \n",
      " 19  YearBuilt      1460 non-null   int64  \n",
      " 20  YearRemodAdd   1460 non-null   int64  \n",
      " 21  RoofStyle      1460 non-null   object \n",
      " 22  RoofMatl       1460 non-null   object \n",
      " 23  Exterior1st    1460 non-null   object \n",
      " 24  Exterior2nd    1460 non-null   object \n",
      " 25  MasVnrType     588 non-null    object \n",
      " 26  MasVnrArea     1452 non-null   float64\n",
      " 27  ExterQual      1460 non-null   object \n",
      " 28  ExterCond      1460 non-null   object \n",
      " 29  Foundation     1460 non-null   object \n",
      " 30  BsmtQual       1423 non-null   object \n",
      " 31  BsmtCond       1423 non-null   object \n",
      " 32  BsmtExposure   1422 non-null   object \n",
      " 33  BsmtFinType1   1423 non-null   object \n",
      " 34  BsmtFinSF1     1460 non-null   int64  \n",
      " 35  BsmtFinType2   1422 non-null   object \n",
      " 36  BsmtFinSF2     1460 non-null   int64  \n",
      " 37  BsmtUnfSF      1460 non-null   int64  \n",
      " 38  TotalBsmtSF    1460 non-null   int64  \n",
      " 39  Heating        1460 non-null   object \n",
      " 40  HeatingQC      1460 non-null   object \n",
      " 41  CentralAir     1460 non-null   object \n",
      " 42  Electrical     1459 non-null   object \n",
      " 43  1stFlrSF       1460 non-null   int64  \n",
      " 44  2ndFlrSF       1460 non-null   int64  \n",
      " 45  LowQualFinSF   1460 non-null   int64  \n",
      " 46  GrLivArea      1460 non-null   int64  \n",
      " 47  BsmtFullBath   1460 non-null   int64  \n",
      " 48  BsmtHalfBath   1460 non-null   int64  \n",
      " 49  FullBath       1460 non-null   int64  \n",
      " 50  HalfBath       1460 non-null   int64  \n",
      " 51  BedroomAbvGr   1460 non-null   int64  \n",
      " 52  KitchenAbvGr   1460 non-null   int64  \n",
      " 53  KitchenQual    1460 non-null   object \n",
      " 54  TotRmsAbvGrd   1460 non-null   int64  \n",
      " 55  Functional     1460 non-null   object \n",
      " 56  Fireplaces     1460 non-null   int64  \n",
      " 57  FireplaceQu    770 non-null    object \n",
      " 58  GarageType     1379 non-null   object \n",
      " 59  GarageYrBlt    1379 non-null   float64\n",
      " 60  GarageFinish   1379 non-null   object \n",
      " 61  GarageCars     1460 non-null   int64  \n",
      " 62  GarageArea     1460 non-null   int64  \n",
      " 63  GarageQual     1379 non-null   object \n",
      " 64  GarageCond     1379 non-null   object \n",
      " 65  PavedDrive     1460 non-null   object \n",
      " 66  WoodDeckSF     1460 non-null   int64  \n",
      " 67  OpenPorchSF    1460 non-null   int64  \n",
      " 68  EnclosedPorch  1460 non-null   int64  \n",
      " 69  3SsnPorch      1460 non-null   int64  \n",
      " 70  ScreenPorch    1460 non-null   int64  \n",
      " 71  PoolArea       1460 non-null   int64  \n",
      " 72  PoolQC         7 non-null      object \n",
      " 73  Fence          281 non-null    object \n",
      " 74  MiscFeature    54 non-null     object \n",
      " 75  MiscVal        1460 non-null   int64  \n",
      " 76  MoSold         1460 non-null   int64  \n",
      " 77  YrSold         1460 non-null   int64  \n",
      " 78  SaleType       1460 non-null   object \n",
      " 79  SaleCondition  1460 non-null   object \n",
      " 80  SalePrice      1460 non-null   int64  \n",
      "dtypes: float64(3), int64(35), object(43)\n",
      "memory usage: 924.0+ KB\n"
     ]
    }
   ],
   "source": [
    "df.info()"
   ]
  },
  {
   "cell_type": "markdown",
   "id": "16053597-dddf-48fb-ae4d-8a44544dfb9c",
   "metadata": {},
   "source": [
    "Feature Encoding/Selection"
   ]
  },
  {
   "cell_type": "code",
   "execution_count": 12,
   "id": "c08063b0",
   "metadata": {},
   "outputs": [
    {
     "data": {
      "text/html": [
       "<div>\n",
       "<style scoped>\n",
       "    .dataframe tbody tr th:only-of-type {\n",
       "        vertical-align: middle;\n",
       "    }\n",
       "\n",
       "    .dataframe tbody tr th {\n",
       "        vertical-align: top;\n",
       "    }\n",
       "\n",
       "    .dataframe thead th {\n",
       "        text-align: right;\n",
       "    }\n",
       "</style>\n",
       "<table border=\"1\" class=\"dataframe\">\n",
       "  <thead>\n",
       "    <tr style=\"text-align: right;\">\n",
       "      <th></th>\n",
       "      <th>MSSubClass</th>\n",
       "      <th>LotFrontage</th>\n",
       "      <th>LotArea</th>\n",
       "      <th>YearBuilt</th>\n",
       "      <th>YearRemodAdd</th>\n",
       "    </tr>\n",
       "  </thead>\n",
       "  <tbody>\n",
       "    <tr>\n",
       "      <th>0</th>\n",
       "      <td>60</td>\n",
       "      <td>65.0</td>\n",
       "      <td>8450</td>\n",
       "      <td>2003</td>\n",
       "      <td>2003</td>\n",
       "    </tr>\n",
       "    <tr>\n",
       "      <th>1</th>\n",
       "      <td>20</td>\n",
       "      <td>80.0</td>\n",
       "      <td>9600</td>\n",
       "      <td>1976</td>\n",
       "      <td>1976</td>\n",
       "    </tr>\n",
       "    <tr>\n",
       "      <th>2</th>\n",
       "      <td>60</td>\n",
       "      <td>68.0</td>\n",
       "      <td>11250</td>\n",
       "      <td>2001</td>\n",
       "      <td>2002</td>\n",
       "    </tr>\n",
       "    <tr>\n",
       "      <th>3</th>\n",
       "      <td>70</td>\n",
       "      <td>60.0</td>\n",
       "      <td>9550</td>\n",
       "      <td>1915</td>\n",
       "      <td>1970</td>\n",
       "    </tr>\n",
       "    <tr>\n",
       "      <th>4</th>\n",
       "      <td>60</td>\n",
       "      <td>84.0</td>\n",
       "      <td>14260</td>\n",
       "      <td>2000</td>\n",
       "      <td>2000</td>\n",
       "    </tr>\n",
       "    <tr>\n",
       "      <th>...</th>\n",
       "      <td>...</td>\n",
       "      <td>...</td>\n",
       "      <td>...</td>\n",
       "      <td>...</td>\n",
       "      <td>...</td>\n",
       "    </tr>\n",
       "    <tr>\n",
       "      <th>1455</th>\n",
       "      <td>60</td>\n",
       "      <td>62.0</td>\n",
       "      <td>7917</td>\n",
       "      <td>1999</td>\n",
       "      <td>2000</td>\n",
       "    </tr>\n",
       "    <tr>\n",
       "      <th>1456</th>\n",
       "      <td>20</td>\n",
       "      <td>85.0</td>\n",
       "      <td>13175</td>\n",
       "      <td>1978</td>\n",
       "      <td>1988</td>\n",
       "    </tr>\n",
       "    <tr>\n",
       "      <th>1457</th>\n",
       "      <td>70</td>\n",
       "      <td>66.0</td>\n",
       "      <td>9042</td>\n",
       "      <td>1941</td>\n",
       "      <td>2006</td>\n",
       "    </tr>\n",
       "    <tr>\n",
       "      <th>1458</th>\n",
       "      <td>20</td>\n",
       "      <td>68.0</td>\n",
       "      <td>9717</td>\n",
       "      <td>1950</td>\n",
       "      <td>1996</td>\n",
       "    </tr>\n",
       "    <tr>\n",
       "      <th>1459</th>\n",
       "      <td>20</td>\n",
       "      <td>75.0</td>\n",
       "      <td>9937</td>\n",
       "      <td>1965</td>\n",
       "      <td>1965</td>\n",
       "    </tr>\n",
       "  </tbody>\n",
       "</table>\n",
       "<p>1460 rows × 5 columns</p>\n",
       "</div>"
      ],
      "text/plain": [
       "      MSSubClass  LotFrontage  LotArea  YearBuilt  YearRemodAdd\n",
       "0             60         65.0     8450       2003          2003\n",
       "1             20         80.0     9600       1976          1976\n",
       "2             60         68.0    11250       2001          2002\n",
       "3             70         60.0     9550       1915          1970\n",
       "4             60         84.0    14260       2000          2000\n",
       "...          ...          ...      ...        ...           ...\n",
       "1455          60         62.0     7917       1999          2000\n",
       "1456          20         85.0    13175       1978          1988\n",
       "1457          70         66.0     9042       1941          2006\n",
       "1458          20         68.0     9717       1950          1996\n",
       "1459          20         75.0     9937       1965          1965\n",
       "\n",
       "[1460 rows x 5 columns]"
      ]
     },
     "execution_count": 12,
     "metadata": {},
     "output_type": "execute_result"
    }
   ],
   "source": [
    "X = df[[\"MSSubClass\",\"LotFrontage\",\"LotArea\", \"YearBuilt\", \"YearRemodAdd\"]]\n",
    "X"
   ]
  },
  {
   "cell_type": "code",
   "execution_count": 13,
   "id": "cf27144d",
   "metadata": {},
   "outputs": [],
   "source": [
    "df_encoded = pd.get_dummies(df[[\"MSZoning\", \"Street\", \"Alley\", \"LotShape\", \"Neighborhood\", \"HouseStyle\", \"OverallCond\", \"ExterCond\", \"BsmtCond\", \"GarageType\", \"GarageCond\", \"PoolQC\"]], dtype=int)\n",
    "X = pd.concat([X, df_encoded], axis=1)\n",
    "X = X.drop(\"HouseStyle_2.5Fin\", axis = 1)\n",
    "X = X.drop(\"PoolQC_Fa\", axis=1)"
   ]
  },
  {
   "cell_type": "code",
   "execution_count": 14,
   "id": "f80f7b63",
   "metadata": {},
   "outputs": [
    {
     "name": "stdout",
     "output_type": "stream",
     "text": [
      "<class 'pandas.core.frame.DataFrame'>\n",
      "RangeIndex: 1460 entries, 0 to 1459\n",
      "Data columns (total 73 columns):\n",
      " #   Column                Non-Null Count  Dtype  \n",
      "---  ------                --------------  -----  \n",
      " 0   MSSubClass            1460 non-null   int64  \n",
      " 1   LotFrontage           1460 non-null   float64\n",
      " 2   LotArea               1460 non-null   int64  \n",
      " 3   YearBuilt             1460 non-null   int64  \n",
      " 4   YearRemodAdd          1460 non-null   int64  \n",
      " 5   OverallCond           1460 non-null   int64  \n",
      " 6   MSZoning_C (all)      1460 non-null   int64  \n",
      " 7   MSZoning_FV           1460 non-null   int64  \n",
      " 8   MSZoning_RH           1460 non-null   int64  \n",
      " 9   MSZoning_RL           1460 non-null   int64  \n",
      " 10  MSZoning_RM           1460 non-null   int64  \n",
      " 11  Street_Grvl           1460 non-null   int64  \n",
      " 12  Street_Pave           1460 non-null   int64  \n",
      " 13  Alley_Grvl            1460 non-null   int64  \n",
      " 14  Alley_Pave            1460 non-null   int64  \n",
      " 15  LotShape_IR1          1460 non-null   int64  \n",
      " 16  LotShape_IR2          1460 non-null   int64  \n",
      " 17  LotShape_IR3          1460 non-null   int64  \n",
      " 18  LotShape_Reg          1460 non-null   int64  \n",
      " 19  Neighborhood_Blmngtn  1460 non-null   int64  \n",
      " 20  Neighborhood_Blueste  1460 non-null   int64  \n",
      " 21  Neighborhood_BrDale   1460 non-null   int64  \n",
      " 22  Neighborhood_BrkSide  1460 non-null   int64  \n",
      " 23  Neighborhood_ClearCr  1460 non-null   int64  \n",
      " 24  Neighborhood_CollgCr  1460 non-null   int64  \n",
      " 25  Neighborhood_Crawfor  1460 non-null   int64  \n",
      " 26  Neighborhood_Edwards  1460 non-null   int64  \n",
      " 27  Neighborhood_Gilbert  1460 non-null   int64  \n",
      " 28  Neighborhood_IDOTRR   1460 non-null   int64  \n",
      " 29  Neighborhood_MeadowV  1460 non-null   int64  \n",
      " 30  Neighborhood_Mitchel  1460 non-null   int64  \n",
      " 31  Neighborhood_NAmes    1460 non-null   int64  \n",
      " 32  Neighborhood_NPkVill  1460 non-null   int64  \n",
      " 33  Neighborhood_NWAmes   1460 non-null   int64  \n",
      " 34  Neighborhood_NoRidge  1460 non-null   int64  \n",
      " 35  Neighborhood_NridgHt  1460 non-null   int64  \n",
      " 36  Neighborhood_OldTown  1460 non-null   int64  \n",
      " 37  Neighborhood_SWISU    1460 non-null   int64  \n",
      " 38  Neighborhood_Sawyer   1460 non-null   int64  \n",
      " 39  Neighborhood_SawyerW  1460 non-null   int64  \n",
      " 40  Neighborhood_Somerst  1460 non-null   int64  \n",
      " 41  Neighborhood_StoneBr  1460 non-null   int64  \n",
      " 42  Neighborhood_Timber   1460 non-null   int64  \n",
      " 43  Neighborhood_Veenker  1460 non-null   int64  \n",
      " 44  HouseStyle_1.5Fin     1460 non-null   int64  \n",
      " 45  HouseStyle_1.5Unf     1460 non-null   int64  \n",
      " 46  HouseStyle_1Story     1460 non-null   int64  \n",
      " 47  HouseStyle_2.5Unf     1460 non-null   int64  \n",
      " 48  HouseStyle_2Story     1460 non-null   int64  \n",
      " 49  HouseStyle_SFoyer     1460 non-null   int64  \n",
      " 50  HouseStyle_SLvl       1460 non-null   int64  \n",
      " 51  ExterCond_Ex          1460 non-null   int64  \n",
      " 52  ExterCond_Fa          1460 non-null   int64  \n",
      " 53  ExterCond_Gd          1460 non-null   int64  \n",
      " 54  ExterCond_Po          1460 non-null   int64  \n",
      " 55  ExterCond_TA          1460 non-null   int64  \n",
      " 56  BsmtCond_Fa           1460 non-null   int64  \n",
      " 57  BsmtCond_Gd           1460 non-null   int64  \n",
      " 58  BsmtCond_Po           1460 non-null   int64  \n",
      " 59  BsmtCond_TA           1460 non-null   int64  \n",
      " 60  GarageType_2Types     1460 non-null   int64  \n",
      " 61  GarageType_Attchd     1460 non-null   int64  \n",
      " 62  GarageType_Basment    1460 non-null   int64  \n",
      " 63  GarageType_BuiltIn    1460 non-null   int64  \n",
      " 64  GarageType_CarPort    1460 non-null   int64  \n",
      " 65  GarageType_Detchd     1460 non-null   int64  \n",
      " 66  GarageCond_Ex         1460 non-null   int64  \n",
      " 67  GarageCond_Fa         1460 non-null   int64  \n",
      " 68  GarageCond_Gd         1460 non-null   int64  \n",
      " 69  GarageCond_Po         1460 non-null   int64  \n",
      " 70  GarageCond_TA         1460 non-null   int64  \n",
      " 71  PoolQC_Ex             1460 non-null   int64  \n",
      " 72  PoolQC_Gd             1460 non-null   int64  \n",
      "dtypes: float64(1), int64(72)\n",
      "memory usage: 832.8 KB\n"
     ]
    }
   ],
   "source": [
    "X.info()"
   ]
  },
  {
   "cell_type": "code",
   "execution_count": 15,
   "id": "bf7c7e0e",
   "metadata": {},
   "outputs": [],
   "source": [
    "import numpy as np\n",
    "\n",
    "y = np.log(df.SalePrice)"
   ]
  },
  {
   "cell_type": "markdown",
   "id": "ee3631e8",
   "metadata": {},
   "source": [
    "Model Training"
   ]
  },
  {
   "cell_type": "code",
   "execution_count": 16,
   "id": "927aae67",
   "metadata": {},
   "outputs": [],
   "source": [
    "from sklearn.preprocessing import StandardScaler\n",
    "scaler = StandardScaler()\n",
    "X_scaled = scaler.fit_transform(X)"
   ]
  },
  {
   "cell_type": "code",
   "execution_count": 17,
   "id": "8c9c602f",
   "metadata": {},
   "outputs": [
    {
     "name": "stdout",
     "output_type": "stream",
     "text": [
      "mse =  0.03934533574615324\n",
      "r2 score =  0.756121598093357\n"
     ]
    }
   ],
   "source": [
    "from sklearn.model_selection import train_test_split\n",
    "from sklearn.linear_model import LinearRegression\n",
    "from sklearn.metrics import mean_squared_error, r2_score\n",
    "\n",
    "x_train, x_test, y_train, y_test = train_test_split(X,y,test_size=0.2, random_state=59)\n",
    "\n",
    "model = LinearRegression()\n",
    "model.fit(x_train, y_train)\n",
    "\n",
    "y_pred = model.predict(x_test)\n",
    "\n",
    "mse = mean_squared_error(y_test, y_pred)\n",
    "r2 = r2_score(y_test, y_pred)\n",
    "\n",
    "print(\"mse = \", mse)\n",
    "print(\"r2 score = \", r2)"
   ]
  },
  {
   "cell_type": "markdown",
   "id": "07cefc70",
   "metadata": {},
   "source": [
    "Prediction"
   ]
  },
  {
   "cell_type": "code",
   "execution_count": 18,
   "id": "31fe1c27",
   "metadata": {},
   "outputs": [
    {
     "name": "stdout",
     "output_type": "stream",
     "text": [
      "['1Story' '2Story' 'SLvl' '1.5Fin' 'SFoyer' '2.5Unf' '1.5Unf']\n",
      "[nan 'Ex' 'Gd']\n"
     ]
    }
   ],
   "source": [
    "df_test = pd.read_csv(\"test.csv\")\n",
    "print(df_test.HouseStyle.unique())\n",
    "#The 2.5Fin is not there in the test set\n",
    "\n",
    "print(df_test.PoolQC.unique())\n",
    "#The Fa is also missing"
   ]
  },
  {
   "cell_type": "code",
   "execution_count": 19,
   "id": "cf132d0e",
   "metadata": {},
   "outputs": [
    {
     "name": "stdout",
     "output_type": "stream",
     "text": [
      "['2Story' '1Story' '1.5Fin' '1.5Unf' 'SFoyer' 'SLvl' '2.5Unf' '2.5Fin']\n",
      "[nan 'Ex' 'Fa' 'Gd']\n"
     ]
    }
   ],
   "source": [
    "print(df.HouseStyle.unique())\n",
    "print(df.PoolQC.unique())"
   ]
  },
  {
   "cell_type": "code",
   "execution_count": 20,
   "id": "bbe7be14",
   "metadata": {},
   "outputs": [],
   "source": [
    "df_test.LotFrontage = df_test.LotFrontage.fillna(df_test.LotFrontage.mean())"
   ]
  },
  {
   "cell_type": "code",
   "execution_count": 21,
   "id": "5f817e54",
   "metadata": {},
   "outputs": [
    {
     "name": "stdout",
     "output_type": "stream",
     "text": [
      "<class 'pandas.core.frame.DataFrame'>\n",
      "RangeIndex: 1459 entries, 0 to 1458\n",
      "Data columns (total 73 columns):\n",
      " #   Column                Non-Null Count  Dtype  \n",
      "---  ------                --------------  -----  \n",
      " 0   MSSubClass            1459 non-null   int64  \n",
      " 1   LotFrontage           1459 non-null   float64\n",
      " 2   LotArea               1459 non-null   int64  \n",
      " 3   YearBuilt             1459 non-null   int64  \n",
      " 4   YearRemodAdd          1459 non-null   int64  \n",
      " 5   OverallCond           1459 non-null   int64  \n",
      " 6   MSZoning_C (all)      1459 non-null   int64  \n",
      " 7   MSZoning_FV           1459 non-null   int64  \n",
      " 8   MSZoning_RH           1459 non-null   int64  \n",
      " 9   MSZoning_RL           1459 non-null   int64  \n",
      " 10  MSZoning_RM           1459 non-null   int64  \n",
      " 11  Street_Grvl           1459 non-null   int64  \n",
      " 12  Street_Pave           1459 non-null   int64  \n",
      " 13  Alley_Grvl            1459 non-null   int64  \n",
      " 14  Alley_Pave            1459 non-null   int64  \n",
      " 15  LotShape_IR1          1459 non-null   int64  \n",
      " 16  LotShape_IR2          1459 non-null   int64  \n",
      " 17  LotShape_IR3          1459 non-null   int64  \n",
      " 18  LotShape_Reg          1459 non-null   int64  \n",
      " 19  Neighborhood_Blmngtn  1459 non-null   int64  \n",
      " 20  Neighborhood_Blueste  1459 non-null   int64  \n",
      " 21  Neighborhood_BrDale   1459 non-null   int64  \n",
      " 22  Neighborhood_BrkSide  1459 non-null   int64  \n",
      " 23  Neighborhood_ClearCr  1459 non-null   int64  \n",
      " 24  Neighborhood_CollgCr  1459 non-null   int64  \n",
      " 25  Neighborhood_Crawfor  1459 non-null   int64  \n",
      " 26  Neighborhood_Edwards  1459 non-null   int64  \n",
      " 27  Neighborhood_Gilbert  1459 non-null   int64  \n",
      " 28  Neighborhood_IDOTRR   1459 non-null   int64  \n",
      " 29  Neighborhood_MeadowV  1459 non-null   int64  \n",
      " 30  Neighborhood_Mitchel  1459 non-null   int64  \n",
      " 31  Neighborhood_NAmes    1459 non-null   int64  \n",
      " 32  Neighborhood_NPkVill  1459 non-null   int64  \n",
      " 33  Neighborhood_NWAmes   1459 non-null   int64  \n",
      " 34  Neighborhood_NoRidge  1459 non-null   int64  \n",
      " 35  Neighborhood_NridgHt  1459 non-null   int64  \n",
      " 36  Neighborhood_OldTown  1459 non-null   int64  \n",
      " 37  Neighborhood_SWISU    1459 non-null   int64  \n",
      " 38  Neighborhood_Sawyer   1459 non-null   int64  \n",
      " 39  Neighborhood_SawyerW  1459 non-null   int64  \n",
      " 40  Neighborhood_Somerst  1459 non-null   int64  \n",
      " 41  Neighborhood_StoneBr  1459 non-null   int64  \n",
      " 42  Neighborhood_Timber   1459 non-null   int64  \n",
      " 43  Neighborhood_Veenker  1459 non-null   int64  \n",
      " 44  HouseStyle_1.5Fin     1459 non-null   int64  \n",
      " 45  HouseStyle_1.5Unf     1459 non-null   int64  \n",
      " 46  HouseStyle_1Story     1459 non-null   int64  \n",
      " 47  HouseStyle_2.5Unf     1459 non-null   int64  \n",
      " 48  HouseStyle_2Story     1459 non-null   int64  \n",
      " 49  HouseStyle_SFoyer     1459 non-null   int64  \n",
      " 50  HouseStyle_SLvl       1459 non-null   int64  \n",
      " 51  ExterCond_Ex          1459 non-null   int64  \n",
      " 52  ExterCond_Fa          1459 non-null   int64  \n",
      " 53  ExterCond_Gd          1459 non-null   int64  \n",
      " 54  ExterCond_Po          1459 non-null   int64  \n",
      " 55  ExterCond_TA          1459 non-null   int64  \n",
      " 56  BsmtCond_Fa           1459 non-null   int64  \n",
      " 57  BsmtCond_Gd           1459 non-null   int64  \n",
      " 58  BsmtCond_Po           1459 non-null   int64  \n",
      " 59  BsmtCond_TA           1459 non-null   int64  \n",
      " 60  GarageType_2Types     1459 non-null   int64  \n",
      " 61  GarageType_Attchd     1459 non-null   int64  \n",
      " 62  GarageType_Basment    1459 non-null   int64  \n",
      " 63  GarageType_BuiltIn    1459 non-null   int64  \n",
      " 64  GarageType_CarPort    1459 non-null   int64  \n",
      " 65  GarageType_Detchd     1459 non-null   int64  \n",
      " 66  GarageCond_Ex         1459 non-null   int64  \n",
      " 67  GarageCond_Fa         1459 non-null   int64  \n",
      " 68  GarageCond_Gd         1459 non-null   int64  \n",
      " 69  GarageCond_Po         1459 non-null   int64  \n",
      " 70  GarageCond_TA         1459 non-null   int64  \n",
      " 71  PoolQC_Ex             1459 non-null   int64  \n",
      " 72  PoolQC_Gd             1459 non-null   int64  \n",
      "dtypes: float64(1), int64(72)\n",
      "memory usage: 832.2 KB\n"
     ]
    }
   ],
   "source": [
    "x_pred = df_test[[\"MSSubClass\",\"LotFrontage\",\"LotArea\", \"YearBuilt\", \"YearRemodAdd\"]]\n",
    "\n",
    "df_encoded_test = pd.get_dummies(df_test[[\"MSZoning\", \"Street\", \"Alley\", \"LotShape\", \"Neighborhood\", \"HouseStyle\", \"OverallCond\", \"ExterCond\", \"BsmtCond\", \"GarageType\", \"GarageCond\", \"PoolQC\"]], dtype=int)\n",
    "x_pred = pd.concat([x_pred, df_encoded_test], axis=1)\n",
    "x_pred.info()"
   ]
  },
  {
   "cell_type": "code",
   "execution_count": 49,
   "id": "5e0bcb54",
   "metadata": {},
   "outputs": [],
   "source": [
    "price_pred = model.predict(x_pred)"
   ]
  },
  {
   "cell_type": "code",
   "execution_count": 50,
   "id": "d9691c51",
   "metadata": {},
   "outputs": [],
   "source": [
    "price_pred = np.exp(price_pred)\n",
    "prediction = pd.DataFrame(price_pred , columns= [\"SalePrice\"])\n",
    "prediction.index = range(1461, 2920)\n",
    "prediction.index.name = \"Id\"\n",
    "prediction = prediction.reset_index()"
   ]
  },
  {
   "cell_type": "code",
   "execution_count": 51,
   "id": "f9af443c",
   "metadata": {},
   "outputs": [
    {
     "data": {
      "text/html": [
       "<div>\n",
       "<style scoped>\n",
       "    .dataframe tbody tr th:only-of-type {\n",
       "        vertical-align: middle;\n",
       "    }\n",
       "\n",
       "    .dataframe tbody tr th {\n",
       "        vertical-align: top;\n",
       "    }\n",
       "\n",
       "    .dataframe thead th {\n",
       "        text-align: right;\n",
       "    }\n",
       "</style>\n",
       "<table border=\"1\" class=\"dataframe\">\n",
       "  <thead>\n",
       "    <tr style=\"text-align: right;\">\n",
       "      <th></th>\n",
       "      <th>Id</th>\n",
       "      <th>SalePrice</th>\n",
       "    </tr>\n",
       "  </thead>\n",
       "  <tbody>\n",
       "    <tr>\n",
       "      <th>0</th>\n",
       "      <td>1461</td>\n",
       "      <td>139973.249239</td>\n",
       "    </tr>\n",
       "    <tr>\n",
       "      <th>1</th>\n",
       "      <td>1462</td>\n",
       "      <td>148128.994558</td>\n",
       "    </tr>\n",
       "    <tr>\n",
       "      <th>2</th>\n",
       "      <td>1463</td>\n",
       "      <td>196595.573501</td>\n",
       "    </tr>\n",
       "    <tr>\n",
       "      <th>3</th>\n",
       "      <td>1464</td>\n",
       "      <td>198865.889368</td>\n",
       "    </tr>\n",
       "    <tr>\n",
       "      <th>4</th>\n",
       "      <td>1465</td>\n",
       "      <td>235088.093202</td>\n",
       "    </tr>\n",
       "    <tr>\n",
       "      <th>...</th>\n",
       "      <td>...</td>\n",
       "      <td>...</td>\n",
       "    </tr>\n",
       "    <tr>\n",
       "      <th>1454</th>\n",
       "      <td>2915</td>\n",
       "      <td>82580.477106</td>\n",
       "    </tr>\n",
       "    <tr>\n",
       "      <th>1455</th>\n",
       "      <td>2916</td>\n",
       "      <td>89923.141071</td>\n",
       "    </tr>\n",
       "    <tr>\n",
       "      <th>1456</th>\n",
       "      <td>2917</td>\n",
       "      <td>182990.854295</td>\n",
       "    </tr>\n",
       "    <tr>\n",
       "      <th>1457</th>\n",
       "      <td>2918</td>\n",
       "      <td>128733.796051</td>\n",
       "    </tr>\n",
       "    <tr>\n",
       "      <th>1458</th>\n",
       "      <td>2919</td>\n",
       "      <td>187923.084260</td>\n",
       "    </tr>\n",
       "  </tbody>\n",
       "</table>\n",
       "<p>1459 rows × 2 columns</p>\n",
       "</div>"
      ],
      "text/plain": [
       "        Id      SalePrice\n",
       "0     1461  139973.249239\n",
       "1     1462  148128.994558\n",
       "2     1463  196595.573501\n",
       "3     1464  198865.889368\n",
       "4     1465  235088.093202\n",
       "...    ...            ...\n",
       "1454  2915   82580.477106\n",
       "1455  2916   89923.141071\n",
       "1456  2917  182990.854295\n",
       "1457  2918  128733.796051\n",
       "1458  2919  187923.084260\n",
       "\n",
       "[1459 rows x 2 columns]"
      ]
     },
     "execution_count": 51,
     "metadata": {},
     "output_type": "execute_result"
    }
   ],
   "source": [
    "prediction"
   ]
  },
  {
   "cell_type": "code",
   "execution_count": 52,
   "id": "b573f38b",
   "metadata": {},
   "outputs": [],
   "source": [
    "prediction.to_csv(\"Prediction.csv\", index= None)"
   ]
  },
  {
   "cell_type": "code",
   "execution_count": 53,
   "id": "0857b252",
   "metadata": {},
   "outputs": [
    {
     "data": {
      "text/plain": [
       "['model.pkl']"
      ]
     },
     "execution_count": 53,
     "metadata": {},
     "output_type": "execute_result"
    }
   ],
   "source": [
    "import joblib\n",
    "joblib.dump(model, \"model.pkl\")"
   ]
  },
  {
   "cell_type": "code",
   "execution_count": null,
   "id": "a319c9d1",
   "metadata": {},
   "outputs": [],
   "source": []
  }
 ],
 "metadata": {
  "kernelspec": {
   "display_name": "Python 3",
   "language": "python",
   "name": "python3"
  },
  "language_info": {
   "codemirror_mode": {
    "name": "ipython",
    "version": 3
   },
   "file_extension": ".py",
   "mimetype": "text/x-python",
   "name": "python",
   "nbconvert_exporter": "python",
   "pygments_lexer": "ipython3",
   "version": "3.11.9"
  }
 },
 "nbformat": 4,
 "nbformat_minor": 5
}
